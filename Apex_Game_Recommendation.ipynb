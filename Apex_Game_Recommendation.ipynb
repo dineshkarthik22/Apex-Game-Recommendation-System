{
 "cells": [
  {
   "cell_type": "code",
   "execution_count": 1,
   "id": "0f55c023",
   "metadata": {},
   "outputs": [],
   "source": [
    "import gzip\n",
    "from collections import defaultdict\n",
    "import math\n",
    "import scipy.optimize\n",
    "from sklearn import svm\n",
    "import numpy as np\n",
    "import string\n",
    "import random\n",
    "import string\n",
    "from sklearn import linear_model\n",
    "import statistics\n",
    "import matplotlib.pyplot as plt\n",
    "import os\n",
    "import sys\n",
    "from surprise import SVD, Reader, Dataset\n",
    "import tensorflow as tf"
   ]
  },
  {
   "cell_type": "code",
   "execution_count": 2,
   "id": "005c1a02-c5bf-4241-8d00-dc260d36f08f",
   "metadata": {},
   "outputs": [],
   "source": [
    "def assertFloat(x):\n",
    "    assert type(float(x)) == float\n",
    "\n",
    "def assertFloatList(items, N):\n",
    "    assert len(items) == N\n",
    "    assert [type(float(x)) for x in items] == [float]*N"
   ]
  },
  {
   "cell_type": "code",
   "execution_count": 3,
   "id": "cb2abe72",
   "metadata": {},
   "outputs": [],
   "source": [
    "def readGz(path):\n",
    "    for l in gzip.open(path, 'rt'):\n",
    "        yield eval(l)"
   ]
  },
  {
   "cell_type": "code",
   "execution_count": 4,
   "id": "e54fa48f",
   "metadata": {},
   "outputs": [],
   "source": [
    "def readJSON(path):\n",
    "    f = gzip.open(path, 'rt')\n",
    "    f.readline()\n",
    "    for l in f:\n",
    "        d = eval(l)\n",
    "        u = d['userID']\n",
    "        g = d['gameID']\n",
    "        yield u,g,d"
   ]
  },
  {
   "cell_type": "markdown",
   "id": "99012927",
   "metadata": {},
   "source": [
    "## Load the dataset"
   ]
  },
  {
   "cell_type": "code",
   "execution_count": 6,
   "id": "e72d24da",
   "metadata": {},
   "outputs": [],
   "source": [
    "allHours = []\n",
    "gameCount = defaultdict(int)\n",
    "gameHours = defaultdict(int)\n",
    "games = set()                    # set consisting of distinct games of entire set\n",
    "totalPlayed = 0\n",
    "\n",
    "for user, game, l in readJSON(\"train.json.gz\"):\n",
    "    allHours.append(l)\n",
    "    gameCount[game] += 1\n",
    "    gameHours[game] += l['hours_transformed']\n",
    "    totalPlayed += 1\n",
    "    games.add(game)"
   ]
  },
  {
   "cell_type": "code",
   "execution_count": 7,
   "id": "e586d999",
   "metadata": {},
   "outputs": [
    {
     "data": {
      "text/plain": [
       "(161.0416462670569, 'g99934462')"
      ]
     },
     "execution_count": 7,
     "metadata": {},
     "output_type": "execute_result"
    }
   ],
   "source": [
    "gameHours['g99934462'], max(gameHours)"
   ]
  },
  {
   "cell_type": "code",
   "execution_count": 8,
   "id": "bda7176e",
   "metadata": {},
   "outputs": [
    {
     "data": {
      "text/plain": [
       "174999"
      ]
     },
     "execution_count": 8,
     "metadata": {},
     "output_type": "execute_result"
    }
   ],
   "source": [
    "totalPlayed"
   ]
  },
  {
   "cell_type": "code",
   "execution_count": 9,
   "id": "462bd9bd-b657-4571-8fef-eee11d852099",
   "metadata": {},
   "outputs": [],
   "source": [
    "hoursTrain = allHours[:165000]\n",
    "hoursValid = allHours[165000:]"
   ]
  },
  {
   "cell_type": "code",
   "execution_count": 11,
   "id": "95168992",
   "metadata": {},
   "outputs": [
    {
     "data": {
      "text/plain": [
       "({'hours': 11.9,\n",
       "  'gameID': 'g01549519',\n",
       "  'hours_transformed': 3.689299160535892,\n",
       "  'early_access': True,\n",
       "  'date': '2017-02-25',\n",
       "  'text': \"Great Pirate game.\\nI waited for such a game for very long, it's a great game especially being made by 2 men. It's great.\\nHighly recommended, nice people and nice Gameplay. The only problem I have is that the pvp part is very clunky and spongy.\",\n",
       "  'userID': 'u92465525'},\n",
       " 165000,\n",
       " 9999)"
      ]
     },
     "execution_count": 11,
     "metadata": {},
     "output_type": "execute_result"
    }
   ],
   "source": [
    "hoursValid[7], len(hoursTrain), len(hoursValid)"
   ]
  },
  {
   "cell_type": "markdown",
   "id": "15fea1ab",
   "metadata": {},
   "source": [
    "## Data Pre-processing"
   ]
  },
  {
   "cell_type": "code",
   "execution_count": 12,
   "id": "c58fd9e5-0ba6-4fef-83c1-315503d75348",
   "metadata": {},
   "outputs": [
    {
     "data": {
      "text/plain": [
       "(3.716088074007024, 0, 0)"
      ]
     },
     "execution_count": 12,
     "metadata": {},
     "output_type": "execute_result"
    }
   ],
   "source": [
    "allHours_1 = []\n",
    "userHours = defaultdict(list)\n",
    "user_game_v1 = defaultdict(list)   # user-game pairs of original validation set\n",
    "user_game_v = defaultdict(list)    # user-game pairs of validation set - updation\n",
    "user_game_t = defaultdict(list)    # user-game pairs of training set\n",
    "ground = list()\n",
    "users, gamesd = set(), set()\n",
    "\n",
    "for d in hoursTrain:\n",
    "    h = d['hours_transformed']\n",
    "    user = d['userID']\n",
    "    allHours_1.append(h)\n",
    "    userHours[user].append(h)\n",
    "    user_game_t[user].append(d['gameID'])\n",
    "    users.add(user)\n",
    "    gamesd.add(d['gameID'])\n",
    "    \n",
    "for d in hoursValid:\n",
    "    user = d['userID']\n",
    "    user_game_v[user].append(d['gameID'])\n",
    "    user_game_v1[user].append(d['gameID'])\n",
    "    #ground.append(1)\n",
    "    \n",
    "globalAverage = sum(allHours_1) / len(allHours_1)\n",
    "userAverage = {}\n",
    "for u in userHours:\n",
    "    userAverage[u] = sum(userHours[u]) / len(userHours[u])\n",
    "\n",
    "predictions = open(\"predictions_Hours.csv\", 'w')\n",
    "for l in open(\"pairs_Hours.csv\"):\n",
    "    if l.startswith(\"userID\"):\n",
    "        #header\n",
    "        predictions.write(l)\n",
    "        continue\n",
    "    u,g = l.strip().split(',')\n",
    "    if u in userAverage:\n",
    "        predictions.write(u + ',' + g + ',' + str(userAverage[u]) + '\\n')\n",
    "    else:\n",
    "        predictions.write(u + ',' + g + ',' + str(globalAverage) + '\\n')\n",
    "\n",
    "predictions.close()\n",
    "globalAverage, len(ground), sum(ground)"
   ]
  },
  {
   "cell_type": "markdown",
   "id": "d475eda6",
   "metadata": {},
   "source": [
    "## Jaccard Similarity"
   ]
  },
  {
   "cell_type": "code",
   "execution_count": 13,
   "id": "5b47121f",
   "metadata": {},
   "outputs": [],
   "source": [
    "def Jaccard(s1, s2):\n",
    "    inter = len(s1.intersection(s2))\n",
    "    union = len(s1.union(s2))\n",
    "    if union==0:\n",
    "        return 0\n",
    "    return inter/union"
   ]
  },
  {
   "cell_type": "markdown",
   "id": "cfc66e92",
   "metadata": {},
   "source": [
    "## User-Game Interaction Dictionary"
   ]
  },
  {
   "cell_type": "code",
   "execution_count": 14,
   "id": "ee11e0b3",
   "metadata": {},
   "outputs": [],
   "source": [
    "userIDs = {}\n",
    "itemIDs = {}\n",
    "interactions = []\n",
    "\n",
    "for d in hoursTrain:\n",
    "    u = d['userID']\n",
    "    i = d['gameID']\n",
    "    r = d['hours_transformed']\n",
    "    if not u in userIDs: userIDs[u] = len(userIDs)\n",
    "    if not i in itemIDs: itemIDs[i] = len(itemIDs)\n",
    "    interactions.append((u,i,r))"
   ]
  },
  {
   "cell_type": "code",
   "execution_count": 37,
   "id": "e5e4ca7a",
   "metadata": {},
   "outputs": [
    {
     "data": {
      "text/plain": [
       "(165000, 174999)"
      ]
     },
     "execution_count": 37,
     "metadata": {},
     "output_type": "execute_result"
    }
   ],
   "source": [
    "interactionsTrain = interactions[:165000]\n",
    "len(interactionsTrain), len(interactions)"
   ]
  },
  {
   "cell_type": "code",
   "execution_count": 16,
   "id": "38463c3a",
   "metadata": {},
   "outputs": [
    {
     "data": {
      "text/plain": [
       "3.716088074007024"
      ]
     },
     "execution_count": 16,
     "metadata": {},
     "output_type": "execute_result"
    }
   ],
   "source": [
    "mu = sum([r for _,_,r in interactionsTrain]) / len(interactionsTrain)\n",
    "mu"
   ]
  },
  {
   "cell_type": "markdown",
   "id": "b7f7cb13",
   "metadata": {},
   "source": [
    "## User list - Game list"
   ]
  },
  {
   "cell_type": "code",
   "execution_count": 17,
   "id": "2ac6d9f6",
   "metadata": {},
   "outputs": [],
   "source": [
    "usersPerItem = defaultdict(list) # Maps an item to the users who rated it\n",
    "itemsPerUser = defaultdict(list) # Maps a user to the items that they rated\n",
    "\n",
    "for u,i,r in interactionsTrain:\n",
    "    itemsPerUser[u].append(i)\n",
    "    usersPerItem[i].append(u)"
   ]
  },
  {
   "cell_type": "code",
   "execution_count": 18,
   "id": "fed41b92",
   "metadata": {},
   "outputs": [],
   "source": [
    "items = list(itemIDs.keys())"
   ]
  },
  {
   "cell_type": "markdown",
   "id": "6c8e5c73",
   "metadata": {},
   "source": [
    "## Bayesian Personalized Ranking"
   ]
  },
  {
   "cell_type": "code",
   "execution_count": 19,
   "id": "7af3e9d0",
   "metadata": {},
   "outputs": [],
   "source": [
    "class BPRbatch(tf.keras.Model):\n",
    "    def __init__(self, K, lamb):\n",
    "        super(BPRbatch, self).__init__()\n",
    "        # Initialize variables\n",
    "        self.betaI = tf.Variable(tf.random.normal([len(itemIDs)],stddev=0.001))\n",
    "        self.gammaU = tf.Variable(tf.random.normal([len(userIDs),K],stddev=0.001))\n",
    "        self.gammaI = tf.Variable(tf.random.normal([len(itemIDs),K],stddev=0.001))\n",
    "        # Regularization coefficient\n",
    "        self.lamb = lamb\n",
    "\n",
    "    # Prediction for a single instance\n",
    "    def predict(self, u, i):\n",
    "        p = self.betaI[i] + tf.tensordot(self.gammaU[u], self.gammaI[i], 1)\n",
    "        return p\n",
    "\n",
    "    # Regularizer\n",
    "    def reg(self):\n",
    "        return self.lamb * (tf.nn.l2_loss(self.betaI) +\\\n",
    "                            tf.nn.l2_loss(self.gammaU) +\\\n",
    "                            tf.nn.l2_loss(self.gammaI))\n",
    "    \n",
    "    def score(self, sampleU, sampleI):\n",
    "        u = tf.convert_to_tensor(sampleU, dtype=tf.int32)\n",
    "        i = tf.convert_to_tensor(sampleI, dtype=tf.int32)\n",
    "        beta_i = tf.nn.embedding_lookup(self.betaI, i)\n",
    "        gamma_u = tf.nn.embedding_lookup(self.gammaU, u)\n",
    "        gamma_i = tf.nn.embedding_lookup(self.gammaI, i)\n",
    "        x_ui = beta_i + tf.reduce_sum(tf.multiply(gamma_u, gamma_i), 1)\n",
    "        return x_ui\n",
    "    \n",
    "    def score_prob(self, sampleU, sampleI):\n",
    "        u = tf.convert_to_tensor(sampleU, dtype=tf.int32)\n",
    "        i = tf.convert_to_tensor(sampleI, dtype=tf.int32)\n",
    "        beta_i = tf.nn.embedding_lookup(self.betaI, i)\n",
    "        gamma_u = tf.nn.embedding_lookup(self.gammaU, u)\n",
    "        gamma_i = tf.nn.embedding_lookup(self.gammaI, i)\n",
    "        x_ui = beta_i + tf.reduce_sum(tf.multiply(gamma_u, gamma_i), 1)\n",
    "        probability = tf.math.sigmoid(x_ui)\n",
    "        \n",
    "        return probability\n",
    "\n",
    "    def call(self, sampleU, sampleI, sampleJ):\n",
    "        x_ui = self.score(sampleU, sampleI)\n",
    "        x_uj = self.score(sampleU, sampleJ)\n",
    "        return -tf.reduce_mean(tf.math.log(tf.math.sigmoid(x_ui - x_uj)))"
   ]
  },
  {
   "cell_type": "code",
   "execution_count": 20,
   "id": "fba3111f",
   "metadata": {},
   "outputs": [
    {
     "name": "stderr",
     "output_type": "stream",
     "text": [
      "WARNING:absl:At this time, the v2.11+ optimizer `tf.keras.optimizers.Adam` runs slowly on M1/M2 Macs, please use the legacy Keras optimizer instead, located at `tf.keras.optimizers.legacy.Adam`.\n",
      "2024-02-04 12:29:10.370061: I metal_plugin/src/device/metal_device.cc:1154] Metal device set to: Apple M2\n",
      "2024-02-04 12:29:10.370116: I metal_plugin/src/device/metal_device.cc:296] systemMemory: 8.00 GB\n",
      "2024-02-04 12:29:10.370128: I metal_plugin/src/device/metal_device.cc:313] maxCacheSize: 2.67 GB\n",
      "2024-02-04 12:29:10.370851: I tensorflow/core/common_runtime/pluggable_device/pluggable_device_factory.cc:306] Could not identify NUMA node of platform GPU ID 0, defaulting to 0. Your kernel may not have been built with NUMA support.\n",
      "2024-02-04 12:29:10.371445: I tensorflow/core/common_runtime/pluggable_device/pluggable_device_factory.cc:272] Created TensorFlow device (/job:localhost/replica:0/task:0/device:GPU:0 with 0 MB memory) -> physical PluggableDevice (device: 0, name: METAL, pci bus id: <undefined>)\n"
     ]
    }
   ],
   "source": [
    "optimizer = tf.keras.optimizers.Adam(0.1)\n",
    "modelBPR = BPRbatch(2, 0.00001)"
   ]
  },
  {
   "cell_type": "code",
   "execution_count": 21,
   "id": "11e1a197",
   "metadata": {},
   "outputs": [],
   "source": [
    "def trainingStepBPR(model, interactions):\n",
    "    Nsamples = 50000\n",
    "    with tf.GradientTape() as tape:\n",
    "        sampleU, sampleI, sampleJ = [], [], []\n",
    "        for _ in range(Nsamples):\n",
    "            u,i,_ = random.choice(interactions) # positive sample\n",
    "            j = random.choice(items) # negative sample\n",
    "            while j in itemsPerUser[u]:\n",
    "                j = random.choice(items)\n",
    "            sampleU.append(userIDs[u])\n",
    "            sampleI.append(itemIDs[i])\n",
    "            sampleJ.append(itemIDs[j])\n",
    "\n",
    "        loss = model(sampleU,sampleI,sampleJ)\n",
    "        loss += model.reg()\n",
    "    gradients = tape.gradient(loss, model.trainable_variables)\n",
    "    optimizer.apply_gradients((grad, var) for\n",
    "                              (grad, var) in zip(gradients, model.trainable_variables)\n",
    "                              if grad is not None)\n",
    "    return loss.numpy()"
   ]
  },
  {
   "cell_type": "code",
   "execution_count": 22,
   "id": "e78154e8",
   "metadata": {},
   "outputs": [
    {
     "name": "stdout",
     "output_type": "stream",
     "text": [
      "iteration 10, objective = 0.5167789\n",
      "iteration 20, objective = 0.4877952\n",
      "iteration 30, objective = 0.47672123\n",
      "iteration 40, objective = 0.47458503\n",
      "iteration 50, objective = 0.46697414\n",
      "iteration 60, objective = 0.4662987\n",
      "iteration 70, objective = 0.46800274\n",
      "iteration 80, objective = 0.46280053\n",
      "iteration 90, objective = 0.4658589\n",
      "iteration 100, objective = 0.45968518\n"
     ]
    }
   ],
   "source": [
    "for i in range(100):\n",
    "    obj = trainingStepBPR(modelBPR, interactionsTrain)\n",
    "    if (i % 10 == 9): print(\"iteration \" + str(i+1) + \", objective = \" + str(obj))"
   ]
  },
  {
   "cell_type": "code",
   "execution_count": 24,
   "id": "ebb367af",
   "metadata": {},
   "outputs": [],
   "source": [
    "for d in hoursValid:\n",
    "    u = d['userID']\n",
    "    i = d['gameID']\n",
    "    r = d['hours_transformed']\n",
    "    if not u in userIDs: userIDs[u] = len(userIDs)\n",
    "    if not i in itemIDs: itemIDs[i] = len(itemIDs)\n",
    "    interactions.append((u,i,r))"
   ]
  },
  {
   "cell_type": "markdown",
   "id": "721f792c",
   "metadata": {},
   "source": [
    "## Classifying Most popular Games"
   ]
  },
  {
   "cell_type": "code",
   "execution_count": 25,
   "id": "4f12b856",
   "metadata": {},
   "outputs": [],
   "source": [
    "mostPopular = [(gameCount[x], x) for x in gameCount]\n",
    "mosttimed = [(gameHours[y], y) for y in gameHours]\n",
    "mostPopular.sort()\n",
    "mostPopular.reverse()\n",
    "mosttimed.sort()\n",
    "mosttimed.reverse()\n",
    "accuracy = list()\n",
    "return1 = set()\n",
    "count = 0\n",
    "for ic, i in mostPopular:\n",
    "    count += ic\n",
    "    return1.add(i)\n",
    "    if count > (totalPlayed * 70) / 100: break"
   ]
  },
  {
   "cell_type": "code",
   "execution_count": 26,
   "id": "76b08aec",
   "metadata": {},
   "outputs": [],
   "source": [
    "user_game1 = defaultdict(list)\n",
    "for u in user_game_v:\n",
    "    l = len(user_game_v[u])\n",
    "    for i in range(0,l):\n",
    "        g1 = random.choice(list(games))\n",
    "        while(g1 in user_game_v[u] or g1 in return1):\n",
    "            g1 = random.choice(list(games))\n",
    "        user_game_v[u].append(g1)\n",
    "        #user_game_v[u].append([g1,0])\n",
    "        #ground.append(0)"
   ]
  },
  {
   "cell_type": "code",
   "execution_count": 27,
   "id": "a02edb04",
   "metadata": {},
   "outputs": [],
   "source": [
    "hoursPerUser = defaultdict(float) # Maps time played by user\n",
    "hoursPerItem = defaultdict(float) # Maps time to a game played\n",
    "for d in hoursTrain:\n",
    "    user,item, hr = d['userID'], d['gameID'], d['hours_transformed']\n",
    "    #print(type(hr))\n",
    "    hoursPerUser[user] += hr\n",
    "    hoursPerItem[item] += hr"
   ]
  },
  {
   "cell_type": "code",
   "execution_count": 28,
   "id": "12995f46",
   "metadata": {},
   "outputs": [],
   "source": [
    "predictions = open(\"dinesh_q1_predictions_Played.csv\", 'w')\n",
    "user_game_test = defaultdict(list)\n",
    "stat_pred = defaultdict(list)\n",
    "nk = 0\n",
    "\n",
    "for l in open(\"pairs_Played.csv\"):\n",
    "    if l.startswith(\"userID\"):\n",
    "        predictions.write(l)\n",
    "        continue\n",
    "    u,g = l.strip().split(',')\n",
    "    user_game_test[u].append(g)\n",
    "    nk +=1"
   ]
  },
  {
   "cell_type": "code",
   "execution_count": 29,
   "id": "86299b27",
   "metadata": {},
   "outputs": [
    {
     "data": {
      "text/plain": [
       "(4738, 'u99971403', 20000, 36)"
      ]
     },
     "execution_count": 29,
     "metadata": {},
     "output_type": "execute_result"
    }
   ],
   "source": [
    "len(user_game_test), max(user_game_test), nk, len(user_game_test['u32377855'])"
   ]
  },
  {
   "cell_type": "markdown",
   "id": "6153a666",
   "metadata": {},
   "source": [
    "## Predicting Games for users"
   ]
  },
  {
   "cell_type": "code",
   "execution_count": 30,
   "id": "9e487e65",
   "metadata": {},
   "outputs": [],
   "source": [
    "#Algorithm for predicting/recommending games to user\n",
    "for u in user_game_test.keys():\n",
    "    pred2 = []\n",
    "    sampleUx = list()\n",
    "    if u in userIDs:\n",
    "        sampleUx.append(userIDs[u])\n",
    "        for g in user_game_test[u]:\n",
    "            sampleI2x = list()\n",
    "            sampleI2x.append(itemIDs[g])\n",
    "            pred2.append((u,g,modelBPR.score(sampleUx, sampleI2x).numpy()))\n",
    "            \n",
    "        pred2.sort(key = lambda x: x[2], reverse = True)\n",
    "        for k in pred2[:len(pred2)//2]:\n",
    "            predictions.write(u + ',' + k[1] + ',' + str(1) + '\\n')\n",
    "\n",
    "        for k in pred2[len(pred2)//2:]:\n",
    "            predictions.write(u + ',' + k[1] + ',' + str(0) + '\\n')\n",
    "    else:\n",
    "        for j in user_game_test[u]:\n",
    "            if j in return1:\n",
    "                predictions.write(u + ',' + j + ',' + str(1) + '\\n')\n",
    "            else:\n",
    "                predictions.write(u + ',' + j + ',' + str(0) + '\\n')\n",
    "\n",
    "predictions.close()"
   ]
  },
  {
   "cell_type": "markdown",
   "id": "5f273766",
   "metadata": {},
   "source": [
    "# Game time prediction for user-game pair"
   ]
  },
  {
   "cell_type": "code",
   "execution_count": 32,
   "id": "745b8c99",
   "metadata": {},
   "outputs": [],
   "source": [
    "trainHours = [r['hours_transformed'] for r in hoursTrain]\n",
    "alpha = sum(trainHours) * 1.0 / len(trainHours)"
   ]
  },
  {
   "cell_type": "code",
   "execution_count": 33,
   "id": "e34e5f65",
   "metadata": {},
   "outputs": [
    {
     "data": {
      "text/plain": [
       "(3.716088074007024,\n",
       " 1.84799690655495,\n",
       " {'hours': 2.6,\n",
       "  'gameID': 'g21544048',\n",
       "  'hours_transformed': 1.84799690655495,\n",
       "  'early_access': False,\n",
       "  'date': '2011-03-01',\n",
       "  'text': 'SAY GOOD BYE TO YOUR CTRL KEY',\n",
       "  'userID': 'u27998358'})"
      ]
     },
     "execution_count": 33,
     "metadata": {},
     "output_type": "execute_result"
    }
   ],
   "source": [
    "alpha, trainHours[10], hoursTrain[10]"
   ]
  },
  {
   "cell_type": "code",
   "execution_count": 34,
   "id": "03c37257",
   "metadata": {},
   "outputs": [],
   "source": [
    "usersPerItem = defaultdict(set) # Maps an item to the users who rated it\n",
    "itemsPerUser = defaultdict(set) # Maps a user to the items that they rated\n",
    "playedhDict = {} # To retrieve a rating for a specific user/item pair\n",
    "\n",
    "for d in hoursTrain:\n",
    "    user,item = d['userID'], d['gameID']\n",
    "    usersPerItem[item].add(user)\n",
    "    itemsPerUser[user].add(item)\n",
    "    playedhDict[(user,item)] = d['hours_transformed']"
   ]
  },
  {
   "cell_type": "code",
   "execution_count": 35,
   "id": "617bf05a",
   "metadata": {},
   "outputs": [],
   "source": [
    "hoursPerUser = defaultdict(float) # Maps time played by user\n",
    "hoursPerItem = defaultdict(float) # Maps time to a game played\n",
    "for d in hoursTrain:\n",
    "    user,item, hr = d['userID'], d['gameID'], d['hours_transformed']\n",
    "    #print(type(hr))\n",
    "    hoursPerUser[user] += hr\n",
    "    hoursPerItem[item] += hr"
   ]
  },
  {
   "cell_type": "code",
   "execution_count": 36,
   "id": "aa7502d7",
   "metadata": {},
   "outputs": [],
   "source": [
    "betaU = {}\n",
    "betaI = {}\n",
    "for u in hoursPerUser:\n",
    "    betaU[u] =  hoursPerUser[u]/len(itemsPerUser[u])  \n",
    "for g in hoursPerItem:\n",
    "    betaI[g] = hoursPerItem[g]/len(usersPerItem[g])"
   ]
  },
  {
   "cell_type": "markdown",
   "id": "0e01ae0a",
   "metadata": {},
   "source": [
    "## Latent Factor Model"
   ]
  },
  {
   "cell_type": "code",
   "execution_count": 41,
   "id": "603de9fb",
   "metadata": {},
   "outputs": [],
   "source": [
    "# Latent Factor Model\n",
    "def iterationY(alpha, lamb1, lamb2):\n",
    "    alpha1 = 0\n",
    "    for d in hoursTrain:\n",
    "        u, g, h = d['userID'], d['gameID'], d['hours_transformed']\n",
    "        alpha1 += h - (betaU[u] + betaI[g])\n",
    "    alpha = alpha1 / len(hoursTrain)\n",
    "    #print(alpha)\n",
    "    for a in itemsPerUser:\n",
    "        betau = 0\n",
    "        for b in itemsPerUser[a]:\n",
    "            betau += playedhDict[a,b] - (alpha + betaI[b]) \n",
    "        betaU[a] = betau / (lamb1 + len(itemsPerUser[a]))\n",
    "        #gamma_u = tf.nn.embedding_lookup(gammaU, u)\n",
    "    for c in usersPerItem:\n",
    "        betai = 0\n",
    "        for d in usersPerItem[c]:\n",
    "            betai += playedhDict[d,c] - (alpha + betaU[d]) \n",
    "        betaI[c] = betai / (lamb2 + len(usersPerItem[c]))\n",
    "        #gamma_i = tf.nn.embedding_lookup(gammaI, i)\n",
    "        #print(betaU[u], betaI[g])\n",
    "\n",
    "    return alpha  # Return the updated alpha\n",
    "\n",
    "# Initialize alpha before calling the function\n",
    "alpha = globalAverage\n",
    "\n",
    "# Perform iterations\n",
    "for i in range(95):\n",
    "    alpha = iterationY(alpha, 8, 2.5)"
   ]
  },
  {
   "cell_type": "code",
   "execution_count": 42,
   "id": "7d11c78b",
   "metadata": {},
   "outputs": [],
   "source": [
    "gt, pred2 = [], []\n",
    "for d in hoursValid:\n",
    "    u,g,h = d['userID'], d['gameID'], d['hours_transformed']\n",
    "    gt.append(h)\n",
    "    pred2.append(alpha + betaU[u] + betaI[g])"
   ]
  },
  {
   "cell_type": "code",
   "execution_count": 43,
   "id": "652059e2",
   "metadata": {},
   "outputs": [],
   "source": [
    "def MSE(y, ypred):\n",
    "    diff = [(a-b)**2 for a,b in zip(y, ypred)]\n",
    "    return sum(diff)/len(diff)"
   ]
  },
  {
   "cell_type": "code",
   "execution_count": 44,
   "id": "52507b4b",
   "metadata": {},
   "outputs": [
    {
     "data": {
      "text/plain": [
       "2.985489116761304"
      ]
     },
     "execution_count": 44,
     "metadata": {},
     "output_type": "execute_result"
    }
   ],
   "source": [
    "validMSE = MSE(gt, pred2)\n",
    "validMSE"
   ]
  },
  {
   "cell_type": "code",
   "execution_count": 45,
   "id": "90a7cd55-1f58-42a5-8c35-4debf80a3e3e",
   "metadata": {},
   "outputs": [],
   "source": [
    "predictions = open(\"Game_Time_Prediction.csv\", 'w')\n",
    "for l in open(\"pairs_Hours.csv\"):\n",
    "    if l.startswith(\"userID\"):\n",
    "        predictions.write(l)\n",
    "        continue\n",
    "    u,g = l.strip().split(',')\n",
    "    _ = predictions.write(u + ',' + g + ',' + str(alpha + betaU[u] + betaI[g]) + '\\n')\n",
    "\n",
    "predictions.close()"
   ]
  }
 ],
 "metadata": {
  "kernelspec": {
   "display_name": "Python 3 (ipykernel)",
   "language": "python",
   "name": "python3"
  },
  "language_info": {
   "codemirror_mode": {
    "name": "ipython",
    "version": 3
   },
   "file_extension": ".py",
   "mimetype": "text/x-python",
   "name": "python",
   "nbconvert_exporter": "python",
   "pygments_lexer": "ipython3",
   "version": "3.11.5"
  }
 },
 "nbformat": 4,
 "nbformat_minor": 5
}
